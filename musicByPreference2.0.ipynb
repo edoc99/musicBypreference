{
 "cells": [
  {
   "cell_type": "code",
   "execution_count": 4,
   "metadata": {},
   "outputs": [
    {
     "data": {
      "text/plain": [
       "array(['Dance'], dtype=object)"
      ]
     },
     "execution_count": 4,
     "metadata": {},
     "output_type": "execute_result"
    }
   ],
   "source": [
    "import pandas as pd\n",
    "from sklearn.tree import DecisionTreeClassifier\n",
    "from joblib import dump, load\n",
    "\n",
    "# # loading data frame\n",
    "# music_data = pd.read_csv('music.csv')\n",
    "# # created data\n",
    "# # input set\n",
    "# X = music_data.drop(columns=['genre'])\n",
    "# # output set\n",
    "# y = music_data['genre']\n",
    "\n",
    "# # build model\n",
    "# model = DecisionTreeClassifier()\n",
    "# # train model\n",
    "# model.fit(X, y)\n",
    "\n",
    "# dumping the model in .joblib file\n",
    "# dump(model, 'music-recommender.joblib')\n",
    "\n",
    "# loading the .joblib file for model \n",
    "model = load('music-recommender.joblib')\n",
    "\n",
    "# making predictions\n",
    "predictions = model.predict([[21, 0]])\n",
    "predictions"
   ]
  }
 ],
 "metadata": {
  "kernelspec": {
   "display_name": "Python 3",
   "language": "python",
   "name": "python3"
  },
  "language_info": {
   "codemirror_mode": {
    "name": "ipython",
    "version": 3
   },
   "file_extension": ".py",
   "mimetype": "text/x-python",
   "name": "python",
   "nbconvert_exporter": "python",
   "pygments_lexer": "ipython3",
   "version": "3.7.4"
  }
 },
 "nbformat": 4,
 "nbformat_minor": 2
}
